{
  "nbformat": 4,
  "nbformat_minor": 0,
  "metadata": {
    "colab": {
      "name": "Movie Review Sentiment Analysis.ipynb",
      "provenance": [],
      "mount_file_id": "1w6_ogL0DMlp7kgavZHWHjWS5rI0xCF3a",
      "authorship_tag": "ABX9TyNR+ZbmydN6VWodNW3fJTmb",
      "include_colab_link": true
    },
    "kernelspec": {
      "name": "python3",
      "display_name": "Python 3"
    }
  },
  "cells": [
    {
      "cell_type": "markdown",
      "metadata": {
        "id": "view-in-github",
        "colab_type": "text"
      },
      "source": [
        "<a href=\"https://colab.research.google.com/github/ToluClassics/Movie-Review-Sentiment-Analysis/blob/master/Movie_Review_Sentiment_Analysis.ipynb\" target=\"_parent\"><img src=\"https://colab.research.google.com/assets/colab-badge.svg\" alt=\"Open In Colab\"/></a>"
      ]
    },
    {
      "cell_type": "code",
      "metadata": {
        "id": "Q9zN9j6VBhG5",
        "colab_type": "code",
        "colab": {}
      },
      "source": [
        "labels_path = '/content/drive/My Drive/Sentiment Analysis/labels.txt'\n",
        "reviews_path = '/content/drive/My Drive/Sentiment Analysis/reviews.txt'\n",
        "\n",
        "file = open(reviews_path,'r')\n",
        "reviews_list = list(map(lambda x:x[:-1],file.readlines()))\n",
        "\n",
        "file = open(labels_path,'r')\n",
        "labels_list = list(map(lambda x:x[:-1].upper(),file.readlines()))"
      ],
      "execution_count": 0,
      "outputs": []
    },
    {
      "cell_type": "code",
      "metadata": {
        "id": "XELQO6t-LZIf",
        "colab_type": "code",
        "colab": {
          "base_uri": "https://localhost:8080/",
          "height": 51
        },
        "outputId": "2abcc97d-ec03-439e-cc7b-408d2da645f1"
      },
      "source": [
        "print(\"Number of Labels: \"+str(len(labels_list)))\n",
        "\n",
        "print(\"Number of Reviews: \"+ str(len(reviews_list)))"
      ],
      "execution_count": 9,
      "outputs": [
        {
          "output_type": "stream",
          "text": [
            "Number of Labels: 25000\n",
            "Number of Reviews: 25000\n"
          ],
          "name": "stdout"
        }
      ]
    },
    {
      "cell_type": "code",
      "metadata": {
        "id": "ISdbcAHsLqWx",
        "colab_type": "code",
        "colab": {
          "base_uri": "https://localhost:8080/",
          "height": 173
        },
        "outputId": "30cc070c-1899-47e9-9b5d-c9b5a4e42924"
      },
      "source": [
        "#We create a function that  takes in the index and outputs the  label and review\n",
        "\n",
        "def pretty_print_review_and_label(i):\n",
        "  print(labels_list[i] + '\\t:\\t' + reviews_list[i])\n",
        "\n",
        "print(\"labels.txt \\t : \\t reviews.txt\\n\")\n",
        "pretty_print_review_and_label(2137)\n",
        "pretty_print_review_and_label(12816)\n",
        "pretty_print_review_and_label(6267)\n",
        "pretty_print_review_and_label(21934)\n",
        "pretty_print_review_and_label(5297)\n",
        "pretty_print_review_and_label(4998)"
      ],
      "execution_count": 12,
      "outputs": [
        {
          "output_type": "stream",
          "text": [
            "labels.txt \t : \t reviews.txt\n",
            "\n",
            "NEGATIVE\t:\tthis movie is terrible but it has some good effects .  \n",
            "POSITIVE\t:\tadrian pasdar is excellent is this film . he makes a fascinating woman .  \n",
            "NEGATIVE\t:\tcomment this movie is impossible . is terrible  very improbable  bad interpretation e direction . not look       \n",
            "POSITIVE\t:\texcellent episode movie ala pulp fiction .  days   suicides . it doesnt get more depressing than this . movie rating     music rating       \n",
            "NEGATIVE\t:\tif you haven  t seen this  it  s terrible . it is pure trash . i saw this about   years ago  and i  m still screwed up from it .  \n",
            "POSITIVE\t:\tthis schiffer guy is a real genius  the movie is of excellent quality and both entertaining and educating .  br    br   i didn  t know what a weather girl was before i learned it here .  \n"
          ],
          "name": "stdout"
        }
      ]
    },
    {
      "cell_type": "code",
      "metadata": {
        "id": "37QHrHVUWBqb",
        "colab_type": "code",
        "colab": {}
      },
      "source": [
        "from collections import Counter\n",
        "import numpy as np"
      ],
      "execution_count": 0,
      "outputs": []
    },
    {
      "cell_type": "code",
      "metadata": {
        "id": "LiaxfnoTOtPY",
        "colab_type": "code",
        "colab": {}
      },
      "source": [
        "#Create a counter object to house all the words in the positive or negative \n",
        "\n",
        "\n",
        "positive_count = Counter()\n",
        "negative_count = Counter()\n",
        "total_count = Counter()"
      ],
      "execution_count": 0,
      "outputs": []
    },
    {
      "cell_type": "code",
      "metadata": {
        "id": "rBsfaqB8WgwD",
        "colab_type": "code",
        "colab": {}
      },
      "source": [
        "for i in range(len(reviews_list)):\n",
        "  if labels_list[i] == \"NEGATIVE\":\n",
        "    for word in str(reviews_list[i]).split(' '):\n",
        "      negative_count[word] += 1\n",
        "      total_count[word] += 1\n",
        "  else:\n",
        "      for word in str(reviews_list[i]).split(' '):\n",
        "        positive_count[word] += 1\n",
        "        total_count[word] += 1"
      ],
      "execution_count": 0,
      "outputs": []
    },
    {
      "cell_type": "code",
      "metadata": {
        "id": "eBbNHB6CXY-m",
        "colab_type": "code",
        "colab": {
          "base_uri": "https://localhost:8080/",
          "height": 187
        },
        "outputId": "38802502-77cb-4d19-f33b-f442059ac25e"
      },
      "source": [
        "#Print out the most common words used in the positive reviews\n",
        "\n",
        "positive_count.most_common(10)"
      ],
      "execution_count": 20,
      "outputs": [
        {
          "output_type": "execute_result",
          "data": {
            "text/plain": [
              "[('', 550468),\n",
              " ('the', 173324),\n",
              " ('.', 159654),\n",
              " ('and', 89722),\n",
              " ('a', 83688),\n",
              " ('of', 76855),\n",
              " ('to', 66746),\n",
              " ('is', 57245),\n",
              " ('in', 50215),\n",
              " ('br', 49235)]"
            ]
          },
          "metadata": {
            "tags": []
          },
          "execution_count": 20
        }
      ]
    },
    {
      "cell_type": "code",
      "metadata": {
        "id": "oUbwUbQSYiW7",
        "colab_type": "code",
        "colab": {
          "base_uri": "https://localhost:8080/",
          "height": 187
        },
        "outputId": "586a7517-9fea-4592-e49e-0711fc098dea"
      },
      "source": [
        "#Print out the most common words used in the Negative reviews\n",
        "\n",
        "negative_count.most_common(10)"
      ],
      "execution_count": 21,
      "outputs": [
        {
          "output_type": "execute_result",
          "data": {
            "text/plain": [
              "[('', 561462),\n",
              " ('.', 167538),\n",
              " ('the', 163389),\n",
              " ('a', 79321),\n",
              " ('and', 74385),\n",
              " ('of', 69009),\n",
              " ('to', 68974),\n",
              " ('br', 52637),\n",
              " ('is', 50083),\n",
              " ('it', 48327)]"
            ]
          },
          "metadata": {
            "tags": []
          },
          "execution_count": 21
        }
      ]
    },
    {
      "cell_type": "code",
      "metadata": {
        "id": "AqkrOvDZZVM8",
        "colab_type": "code",
        "colab": {
          "base_uri": "https://localhost:8080/",
          "height": 54
        },
        "outputId": "4ef5c4e6-25b5-4f36-a144-51c204a09838"
      },
      "source": [
        "'''As you can see, common words like \"the\" appear very often in both positive \n",
        "and negative reviews. Instead of finding the most common words in positive or negative \n",
        "reviews, what you really want are the words found in positive reviews more often than in negative reviews, and vice versa. To accomplish this, you'll \n",
        "need to calculate the **ratios** of word usage between positive and negative reviews.'''"
      ],
      "execution_count": 22,
      "outputs": [
        {
          "output_type": "execute_result",
          "data": {
            "text/plain": [
              "'As you can see, common words like \"the\" appear very often in both positive \\nand negative reviews. Instead of finding the most common words in positive or negative \\nreviews, what you really want are the words found in positive reviews more often than in negative reviews, and vice versa. To accomplish this, you\\'ll \\nneed to calculate the **ratios** of word usage between positive and negative reviews.'"
            ]
          },
          "metadata": {
            "tags": []
          },
          "execution_count": 22
        }
      ]
    },
    {
      "cell_type": "code",
      "metadata": {
        "id": "NXDfwqI1aXva",
        "colab_type": "code",
        "colab": {
          "base_uri": "https://localhost:8080/",
          "height": 187
        },
        "outputId": "369eb88a-c3ce-4d4c-d3ac-f1d508b77e4d"
      },
      "source": [
        "#Calculate the positive negative ratios of words that exist more than 100 times in the total count\n",
        "pos_neg_ratios = Counter()\n",
        "\n",
        "for word,count in total_count.most_common():\n",
        "  if count > 100:\n",
        "    pos_neg_ratio_value = positive_count[word]/float((negative_count[word] +1))\n",
        "    pos_neg_ratios[word] = pos_neg_ratio_value\n",
        "\n",
        "pos_neg_ratios.most_common(10)"
      ],
      "execution_count": 25,
      "outputs": [
        {
          "output_type": "execute_result",
          "data": {
            "text/plain": [
              "[('edie', 109.0),\n",
              " ('paulie', 59.0),\n",
              " ('felix', 23.4),\n",
              " ('polanski', 16.833333333333332),\n",
              " ('matthau', 16.555555555555557),\n",
              " ('victoria', 14.6),\n",
              " ('mildred', 13.5),\n",
              " ('gandhi', 12.666666666666666),\n",
              " ('flawless', 11.6),\n",
              " ('superbly', 9.583333333333334)]"
            ]
          },
          "metadata": {
            "tags": []
          },
          "execution_count": 25
        }
      ]
    },
    {
      "cell_type": "code",
      "metadata": {
        "id": "JoIaBjKXdWvU",
        "colab_type": "code",
        "colab": {
          "base_uri": "https://localhost:8080/",
          "height": 68
        },
        "outputId": "a2989573-60a1-4d04-dd6b-ec4cfcb15709"
      },
      "source": [
        "print(\"Pos-to-neg ratio for 'the' = {}\".format(pos_neg_ratios[\"the\"]))\n",
        "print(\"Pos-to-neg ratio for 'great' = {}\".format(pos_neg_ratios[\"great\"]))\n",
        "print(\"Pos-to-neg ratio for 'bad' = {}\".format(pos_neg_ratios[\"bad\"]))"
      ],
      "execution_count": 29,
      "outputs": [
        {
          "output_type": "stream",
          "text": [
            "Pos-to-neg ratio for 'the' = 1.0607993145235326\n",
            "Pos-to-neg ratio for 'great' = 2.4305187429004165\n",
            "Pos-to-neg ratio for 'bad' = 0.2576330721426641\n"
          ],
          "name": "stdout"
        }
      ]
    },
    {
      "cell_type": "markdown",
      "metadata": {
        "id": "hZsBPfaAgHYL",
        "colab_type": "text"
      },
      "source": [
        "Looking closely at the values you just calculated, we see the following:\n",
        "\n",
        "* Words that you would expect to see more often in positive reviews – like \"amazing\" – have a ratio greater than 1. The more skewed a word is toward postive, the farther from 1 its positive-to-negative ratio  will be.\n",
        "* Words that you would expect to see more often in negative reviews – like \"terrible\" – have positive values that are less than 1. The more skewed a word is toward negative, the closer to zero its positive-to-negative ratio will be.\n",
        "* Neutral words, which don't really convey any sentiment because you would expect to see them in all sorts of reviews – like \"the\" – have values very close to 1. A perfectly neutral word – one that was used in exactly the same number of positive reviews as negative reviews – would be almost exactly 1. The `+1` we suggested you add to the denominator slightly biases words toward negative, but it won't matter because it will be a tiny bias and later we'll be ignoring words that are too close to neutral anyway."
      ]
    },
    {
      "cell_type": "code",
      "metadata": {
        "id": "SOFbbW4bfahO",
        "colab_type": "code",
        "colab": {}
      },
      "source": [
        "#Go through all the ratios you calculated and convert them to logarithms. (i.e. use np.log(ratio))\n",
        "\n"
      ],
      "execution_count": 0,
      "outputs": []
    }
  ]
}