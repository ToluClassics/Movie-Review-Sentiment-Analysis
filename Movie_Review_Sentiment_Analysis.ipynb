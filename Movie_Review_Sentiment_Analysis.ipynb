{
  "nbformat": 4,
  "nbformat_minor": 0,
  "metadata": {
    "colab": {
      "name": "Movie Review Sentiment Analysis.ipynb",
      "provenance": [],
      "collapsed_sections": [],
      "mount_file_id": "1w6_ogL0DMlp7kgavZHWHjWS5rI0xCF3a",
      "authorship_tag": "ABX9TyNWeP9N7hjMenspstXgM2GC",
      "include_colab_link": true
    },
    "kernelspec": {
      "name": "python3",
      "display_name": "Python 3"
    },
    "accelerator": "GPU"
  },
  "cells": [
    {
      "cell_type": "markdown",
      "metadata": {
        "id": "view-in-github",
        "colab_type": "text"
      },
      "source": [
        "<a href=\"https://colab.research.google.com/github/ToluClassics/Movie-Review-Sentiment-Analysis/blob/master/Movie_Review_Sentiment_Analysis.ipynb\" target=\"_parent\"><img src=\"https://colab.research.google.com/assets/colab-badge.svg\" alt=\"Open In Colab\"/></a>"
      ]
    },
    {
      "cell_type": "code",
      "metadata": {
        "id": "Q9zN9j6VBhG5",
        "colab_type": "code",
        "colab": {}
      },
      "source": [
        "labels_path = '/content/drive/My Drive/Sentiment Analysis/labels.txt'\n",
        "reviews_path = '/content/drive/My Drive/Sentiment Analysis/reviews.txt'\n",
        "\n",
        "file = open(reviews_path,'r')\n",
        "reviews_list = list(map(lambda x:x[:-1],file.readlines()))\n",
        "\n",
        "file = open(labels_path,'r')\n",
        "labels_list = list(map(lambda x:x[:-1].upper(),file.readlines()))"
      ],
      "execution_count": 0,
      "outputs": []
    },
    {
      "cell_type": "code",
      "metadata": {
        "id": "XELQO6t-LZIf",
        "colab_type": "code",
        "colab": {
          "base_uri": "https://localhost:8080/",
          "height": 51
        },
        "outputId": "2abcc97d-ec03-439e-cc7b-408d2da645f1"
      },
      "source": [
        "print(\"Number of Labels: \"+str(len(labels_list)))\n",
        "\n",
        "print(\"Number of Reviews: \"+ str(len(reviews_list)))"
      ],
      "execution_count": 9,
      "outputs": [
        {
          "output_type": "stream",
          "text": [
            "Number of Labels: 25000\n",
            "Number of Reviews: 25000\n"
          ],
          "name": "stdout"
        }
      ]
    },
    {
      "cell_type": "code",
      "metadata": {
        "id": "ISdbcAHsLqWx",
        "colab_type": "code",
        "colab": {
          "base_uri": "https://localhost:8080/",
          "height": 173
        },
        "outputId": "509dab21-41b3-4785-8c09-9f2a59f0aa93"
      },
      "source": [
        "#We create a function that  takes in the index and outputs the  label and review\n",
        "\n",
        "def pretty_print_review_and_label(i):\n",
        "  print(labels_list[i] + '\\t:\\t' + reviews_list[i])\n",
        "\n",
        "print(\"labels.txt \\t : \\t reviews.txt\\n\")\n",
        "pretty_print_review_and_label(2137)\n",
        "pretty_print_review_and_label(12816)\n",
        "pretty_print_review_and_label(6267)\n",
        "pretty_print_review_and_label(21934)\n",
        "pretty_print_review_and_label(5297)\n",
        "pretty_print_review_and_label(4998)"
      ],
      "execution_count": 52,
      "outputs": [
        {
          "output_type": "stream",
          "text": [
            "labels.txt \t : \t reviews.txt\n",
            "\n",
            "NEGATIVE\t:\tthis movie is terrible but it has some good effects .  \n",
            "POSITIVE\t:\tadrian pasdar is excellent is this film . he makes a fascinating woman .  \n",
            "NEGATIVE\t:\tcomment this movie is impossible . is terrible  very improbable  bad interpretation e direction . not look       \n",
            "POSITIVE\t:\texcellent episode movie ala pulp fiction .  days   suicides . it doesnt get more depressing than this . movie rating     music rating       \n",
            "NEGATIVE\t:\tif you haven  t seen this  it  s terrible . it is pure trash . i saw this about   years ago  and i  m still screwed up from it .  \n",
            "POSITIVE\t:\tthis schiffer guy is a real genius  the movie is of excellent quality and both entertaining and educating .  br    br   i didn  t know what a weather girl was before i learned it here .  \n"
          ],
          "name": "stdout"
        }
      ]
    },
    {
      "cell_type": "code",
      "metadata": {
        "id": "37QHrHVUWBqb",
        "colab_type": "code",
        "colab": {}
      },
      "source": [
        "from collections import Counter\n",
        "import numpy as np"
      ],
      "execution_count": 0,
      "outputs": []
    },
    {
      "cell_type": "code",
      "metadata": {
        "id": "LiaxfnoTOtPY",
        "colab_type": "code",
        "colab": {}
      },
      "source": [
        "#Create a counter object to house all the words in the positive or negative \n",
        "\n",
        "\n",
        "positive_count = Counter()\n",
        "negative_count = Counter()\n",
        "total_count = Counter()"
      ],
      "execution_count": 0,
      "outputs": []
    },
    {
      "cell_type": "code",
      "metadata": {
        "id": "rBsfaqB8WgwD",
        "colab_type": "code",
        "colab": {}
      },
      "source": [
        "for i in range(len(reviews_list)):\n",
        "  if labels_list[i] == \"NEGATIVE\":\n",
        "    for word in str(reviews_list[i]).split(' '):\n",
        "      negative_count[word] += 1\n",
        "      total_count[word] += 1\n",
        "  else:\n",
        "      for word in str(reviews_list[i]).split(' '):\n",
        "        positive_count[word] += 1\n",
        "        total_count[word] += 1"
      ],
      "execution_count": 0,
      "outputs": []
    },
    {
      "cell_type": "code",
      "metadata": {
        "id": "eBbNHB6CXY-m",
        "colab_type": "code",
        "colab": {
          "base_uri": "https://localhost:8080/",
          "height": 187
        },
        "outputId": "38802502-77cb-4d19-f33b-f442059ac25e"
      },
      "source": [
        "#Print out the most common words used in the positive reviews\n",
        "\n",
        "positive_count.most_common(10)"
      ],
      "execution_count": 20,
      "outputs": [
        {
          "output_type": "execute_result",
          "data": {
            "text/plain": [
              "[('', 550468),\n",
              " ('the', 173324),\n",
              " ('.', 159654),\n",
              " ('and', 89722),\n",
              " ('a', 83688),\n",
              " ('of', 76855),\n",
              " ('to', 66746),\n",
              " ('is', 57245),\n",
              " ('in', 50215),\n",
              " ('br', 49235)]"
            ]
          },
          "metadata": {
            "tags": []
          },
          "execution_count": 20
        }
      ]
    },
    {
      "cell_type": "code",
      "metadata": {
        "id": "oUbwUbQSYiW7",
        "colab_type": "code",
        "colab": {
          "base_uri": "https://localhost:8080/",
          "height": 187
        },
        "outputId": "586a7517-9fea-4592-e49e-0711fc098dea"
      },
      "source": [
        "#Print out the most common words used in the Negative reviews\n",
        "\n",
        "negative_count.most_common(10)"
      ],
      "execution_count": 21,
      "outputs": [
        {
          "output_type": "execute_result",
          "data": {
            "text/plain": [
              "[('', 561462),\n",
              " ('.', 167538),\n",
              " ('the', 163389),\n",
              " ('a', 79321),\n",
              " ('and', 74385),\n",
              " ('of', 69009),\n",
              " ('to', 68974),\n",
              " ('br', 52637),\n",
              " ('is', 50083),\n",
              " ('it', 48327)]"
            ]
          },
          "metadata": {
            "tags": []
          },
          "execution_count": 21
        }
      ]
    },
    {
      "cell_type": "code",
      "metadata": {
        "id": "AqkrOvDZZVM8",
        "colab_type": "code",
        "colab": {
          "base_uri": "https://localhost:8080/",
          "height": 54
        },
        "outputId": "4ef5c4e6-25b5-4f36-a144-51c204a09838"
      },
      "source": [
        "'''As you can see, common words like \"the\" appear very often in both positive \n",
        "and negative reviews. Instead of finding the most common words in positive or negative \n",
        "reviews, what you really want are the words found in positive reviews more often than in negative reviews, and vice versa. To accomplish this, you'll \n",
        "need to calculate the **ratios** of word usage between positive and negative reviews.'''"
      ],
      "execution_count": 22,
      "outputs": [
        {
          "output_type": "execute_result",
          "data": {
            "text/plain": [
              "'As you can see, common words like \"the\" appear very often in both positive \\nand negative reviews. Instead of finding the most common words in positive or negative \\nreviews, what you really want are the words found in positive reviews more often than in negative reviews, and vice versa. To accomplish this, you\\'ll \\nneed to calculate the **ratios** of word usage between positive and negative reviews.'"
            ]
          },
          "metadata": {
            "tags": []
          },
          "execution_count": 22
        }
      ]
    },
    {
      "cell_type": "code",
      "metadata": {
        "id": "NXDfwqI1aXva",
        "colab_type": "code",
        "colab": {
          "base_uri": "https://localhost:8080/",
          "height": 187
        },
        "outputId": "369eb88a-c3ce-4d4c-d3ac-f1d508b77e4d"
      },
      "source": [
        "#Calculate the positive negative ratios of words that exist more than 100 times in the total count\n",
        "pos_neg_ratios = Counter()\n",
        "\n",
        "for word,count in total_count.most_common():\n",
        "  if count > 100:\n",
        "    pos_neg_ratio_value = positive_count[word]/float((negative_count[word] +1))\n",
        "    pos_neg_ratios[word] = pos_neg_ratio_value\n",
        "\n",
        "pos_neg_ratios.most_common(10)"
      ],
      "execution_count": 25,
      "outputs": [
        {
          "output_type": "execute_result",
          "data": {
            "text/plain": [
              "[('edie', 109.0),\n",
              " ('paulie', 59.0),\n",
              " ('felix', 23.4),\n",
              " ('polanski', 16.833333333333332),\n",
              " ('matthau', 16.555555555555557),\n",
              " ('victoria', 14.6),\n",
              " ('mildred', 13.5),\n",
              " ('gandhi', 12.666666666666666),\n",
              " ('flawless', 11.6),\n",
              " ('superbly', 9.583333333333334)]"
            ]
          },
          "metadata": {
            "tags": []
          },
          "execution_count": 25
        }
      ]
    },
    {
      "cell_type": "code",
      "metadata": {
        "id": "JoIaBjKXdWvU",
        "colab_type": "code",
        "colab": {
          "base_uri": "https://localhost:8080/",
          "height": 68
        },
        "outputId": "a2989573-60a1-4d04-dd6b-ec4cfcb15709"
      },
      "source": [
        "print(\"Pos-to-neg ratio for 'the' = {}\".format(pos_neg_ratios[\"the\"]))\n",
        "print(\"Pos-to-neg ratio for 'great' = {}\".format(pos_neg_ratios[\"great\"]))\n",
        "print(\"Pos-to-neg ratio for 'bad' = {}\".format(pos_neg_ratios[\"bad\"]))"
      ],
      "execution_count": 29,
      "outputs": [
        {
          "output_type": "stream",
          "text": [
            "Pos-to-neg ratio for 'the' = 1.0607993145235326\n",
            "Pos-to-neg ratio for 'great' = 2.4305187429004165\n",
            "Pos-to-neg ratio for 'bad' = 0.2576330721426641\n"
          ],
          "name": "stdout"
        }
      ]
    },
    {
      "cell_type": "markdown",
      "metadata": {
        "id": "hZsBPfaAgHYL",
        "colab_type": "text"
      },
      "source": [
        "Looking closely at the values you just calculated, we see the following:\n",
        "\n",
        "* Words that you would expect to see more often in positive reviews – like \"amazing\" – have a ratio greater than 1. The more skewed a word is toward postive, the farther from 1 its positive-to-negative ratio  will be.\n",
        "* Words that you would expect to see more often in negative reviews – like \"terrible\" – have positive values that are less than 1. The more skewed a word is toward negative, the closer to zero its positive-to-negative ratio will be.\n",
        "* Neutral words, which don't really convey any sentiment because you would expect to see them in all sorts of reviews – like \"the\" – have values very close to 1. A perfectly neutral word – one that was used in exactly the same number of positive reviews as negative reviews – would be almost exactly 1. The `+1` we suggested you add to the denominator slightly biases words toward negative, but it won't matter because it will be a tiny bias and later we'll be ignoring words that are too close to neutral anyway."
      ]
    },
    {
      "cell_type": "code",
      "metadata": {
        "id": "SOFbbW4bfahO",
        "colab_type": "code",
        "colab": {}
      },
      "source": [
        "#Go through all the ratios you calculated and convert them to logarithms. (i.e. use np.log(ratio))\n",
        "\n",
        "for word,ratio in pos_neg_ratios.most_common():\n",
        "  if ratio > 1:\n",
        "    pos_neg_ratios[word] = np.log(ratio)\n",
        "  else:\n",
        "    pos_neg_ratios[word] = -np.log(1/(ratio+0.01))"
      ],
      "execution_count": 0,
      "outputs": []
    },
    {
      "cell_type": "code",
      "metadata": {
        "id": "qTerODCSh-Gt",
        "colab_type": "code",
        "colab": {
          "base_uri": "https://localhost:8080/",
          "height": 357
        },
        "outputId": "f334c9d1-8c91-4074-9971-061a28cc743a"
      },
      "source": [
        "#Most common positive words\n",
        "pos_neg_ratios.most_common(20)"
      ],
      "execution_count": 36,
      "outputs": [
        {
          "output_type": "execute_result",
          "data": {
            "text/plain": [
              "[('edie', 4.6913478822291435),\n",
              " ('paulie', 4.07753744390572),\n",
              " ('felix', 3.152736022363656),\n",
              " ('polanski', 2.8233610476132043),\n",
              " ('matthau', 2.80672172860924),\n",
              " ('victoria', 2.681021528714291),\n",
              " ('mildred', 2.6026896854443837),\n",
              " ('gandhi', 2.538973871058276),\n",
              " ('flawless', 2.451005098112319),\n",
              " ('superbly', 2.26002547857525),\n",
              " ('perfection', 2.159484249353372),\n",
              " ('astaire', 2.1400661634962708),\n",
              " ('captures', 2.038619547159581),\n",
              " ('voight', 2.030170492673053),\n",
              " ('wonderfully', 2.0218960560332353),\n",
              " ('powell', 1.978345424808467),\n",
              " ('brosnan', 1.9547990964725592),\n",
              " ('lily', 1.9203768470501485),\n",
              " ('bakshi', 1.9029851043382795),\n",
              " ('lincoln', 1.9014583864844796)]"
            ]
          },
          "metadata": {
            "tags": []
          },
          "execution_count": 36
        }
      ]
    },
    {
      "cell_type": "code",
      "metadata": {
        "id": "yCy5n58ii5Mx",
        "colab_type": "code",
        "colab": {
          "base_uri": "https://localhost:8080/",
          "height": 357
        },
        "outputId": "aab48418-4fd8-45b6-a03a-dc5ed35719c5"
      },
      "source": [
        "#Most common Negative words\n",
        "list(reversed(pos_neg_ratios.most_common()))[:20]"
      ],
      "execution_count": 37,
      "outputs": [
        {
          "output_type": "execute_result",
          "data": {
            "text/plain": [
              "[('boll', -4.07781526027089),\n",
              " ('uwe', -3.921875301871158),\n",
              " ('seagal', -3.320250105858192),\n",
              " ('unwatchable', -3.0269848170580955),\n",
              " ('stinker', -2.9876839403711624),\n",
              " ('mst', -2.775383321170797),\n",
              " ('incoherent', -2.7641396677532537),\n",
              " ('unfunny', -2.5545257844967644),\n",
              " ('waste', -2.4907515123361046),\n",
              " ('blah', -2.4475792789485005),\n",
              " ('horrid', -2.371577964480997),\n",
              " ('pointless', -2.345107387713634),\n",
              " ('atrocious', -2.3187369339642556),\n",
              " ('redeeming', -2.2667790015910296),\n",
              " ('prom', -2.2601040980178784),\n",
              " ('drivel', -2.247602958576693),\n",
              " ('lousy', -2.2118080125207054),\n",
              " ('worst', -2.1930856334332267),\n",
              " ('laughable', -2.172468615469592),\n",
              " ('awful', -2.1385076866397488)]"
            ]
          },
          "metadata": {
            "tags": []
          },
          "execution_count": 37
        }
      ]
    },
    {
      "cell_type": "code",
      "metadata": {
        "id": "asjML9Ushxp-",
        "colab_type": "code",
        "colab": {
          "base_uri": "https://localhost:8080/",
          "height": 68
        },
        "outputId": "4c08890f-a498-43c4-d09c-c43939a08b1c"
      },
      "source": [
        "print(\"Pos-to-neg ratio for 'the' = {}\".format(pos_neg_ratios[\"the\"]))\n",
        "print(\"Pos-to-neg ratio for 'great' = {}\".format(pos_neg_ratios[\"great\"]))\n",
        "print(\"Pos-to-neg ratio for 'bad' = {}\".format(pos_neg_ratios[\"bad\"]))"
      ],
      "execution_count": 35,
      "outputs": [
        {
          "output_type": "stream",
          "text": [
            "Pos-to-neg ratio for 'the' = 0.05902269426102881\n",
            "Pos-to-neg ratio for 'great' = 0.8881047090146459\n",
            "Pos-to-neg ratio for 'bad' = -1.3181383703873577\n"
          ],
          "name": "stdout"
        }
      ]
    },
    {
      "cell_type": "markdown",
      "metadata": {
        "id": "I_EDaH4ilEKC",
        "colab_type": "text"
      },
      "source": [
        "Building a **Neural Network** with 2 layers (Input Layer, Hidden Layer and Output later)"
      ]
    },
    {
      "cell_type": "code",
      "metadata": {
        "id": "IEzCd4djiLfv",
        "colab_type": "code",
        "colab": {
          "base_uri": "https://localhost:8080/",
          "height": 34
        },
        "outputId": "ab13266c-b610-4342-fe2d-b67f174e210c"
      },
      "source": [
        "#Create an unordered list from all the words in the review\n",
        "\n",
        "vocabulary = set(total_count.keys())\n",
        "vocab_size = len(vocabulary)\n",
        "\n",
        "vocab_size"
      ],
      "execution_count": 38,
      "outputs": [
        {
          "output_type": "execute_result",
          "data": {
            "text/plain": [
              "74074"
            ]
          },
          "metadata": {
            "tags": []
          },
          "execution_count": 38
        }
      ]
    },
    {
      "cell_type": "code",
      "metadata": {
        "id": "5lR3VY5EmHqL",
        "colab_type": "code",
        "colab": {
          "base_uri": "https://localhost:8080/",
          "height": 34
        },
        "outputId": "68cf3244-1b64-4b6e-952b-fb22dac8193c"
      },
      "source": [
        "#Create a row array initialized to zeros and the size with the vocabulary length\n",
        "\n",
        "\n",
        "layer_0 = np.zeros((1,vocab_size))\n",
        "layer_0.shape"
      ],
      "execution_count": 46,
      "outputs": [
        {
          "output_type": "execute_result",
          "data": {
            "text/plain": [
              "(1, 74074)"
            ]
          },
          "metadata": {
            "tags": []
          },
          "execution_count": 46
        }
      ]
    },
    {
      "cell_type": "code",
      "metadata": {
        "id": "Quinp72VnWo_",
        "colab_type": "code",
        "colab": {}
      },
      "source": [
        "# Next we create a dictionary that maps the each work and its index\n",
        "word_index = {}\n",
        "\n",
        "for i,word in enumerate(vocabulary):\n",
        "   word_index[word]=i"
      ],
      "execution_count": 0,
      "outputs": []
    },
    {
      "cell_type": "code",
      "metadata": {
        "id": "Ydgaz-NAou1r",
        "colab_type": "code",
        "colab": {}
      },
      "source": [
        "#We are going to create a function to create output layer by using the count of words in each review\n",
        "\n",
        "def update_input_layer(review):\n",
        "\n",
        "  global layer_0\n",
        "  #clear the variable layer_0\n",
        "  layer_0 *= 0\n",
        "\n",
        "  for word in review.split(' '):\n",
        "    layer_0[0][word_index[word]]+=1\n",
        "  \n",
        "  return layer_0"
      ],
      "execution_count": 0,
      "outputs": []
    },
    {
      "cell_type": "code",
      "metadata": {
        "id": "QbvLhawwpEaT",
        "colab_type": "code",
        "colab": {
          "base_uri": "https://localhost:8080/",
          "height": 34
        },
        "outputId": "ef6295b0-3b47-41ca-a7a3-39a83a6fda39"
      },
      "source": [
        "update_input_layer(reviews_list[2137])"
      ],
      "execution_count": 55,
      "outputs": [
        {
          "output_type": "execute_result",
          "data": {
            "text/plain": [
              "array([[2., 0., 0., ..., 0., 0., 0.]])"
            ]
          },
          "metadata": {
            "tags": []
          },
          "execution_count": 55
        }
      ]
    },
    {
      "cell_type": "code",
      "metadata": {
        "id": "9DUuNdv7rD0q",
        "colab_type": "code",
        "colab": {}
      },
      "source": [
        "#define a function to encode the output label\n",
        "\n",
        "def label_encoding(label):\n",
        "  \n",
        "  if label == 'POSITIVE':\n",
        "    label_encod = 1\n",
        "  else:\n",
        "    label_encod = 0\n",
        "\n",
        "  return label_encod"
      ],
      "execution_count": 0,
      "outputs": []
    },
    {
      "cell_type": "code",
      "metadata": {
        "id": "dym8LS1NtJQS",
        "colab_type": "code",
        "colab": {
          "base_uri": "https://localhost:8080/",
          "height": 34
        },
        "outputId": "9a7356c0-90a0-43cd-87b3-de96de69b6ff"
      },
      "source": [
        "label_encoding(labels_list[100])"
      ],
      "execution_count": 58,
      "outputs": [
        {
          "output_type": "execute_result",
          "data": {
            "text/plain": [
              "1"
            ]
          },
          "metadata": {
            "tags": []
          },
          "execution_count": 58
        }
      ]
    },
    {
      "cell_type": "code",
      "metadata": {
        "id": "B8gxRGcctQ7X",
        "colab_type": "code",
        "colab": {
          "base_uri": "https://localhost:8080/",
          "height": 102
        },
        "outputId": "657906ba-f394-4f6b-f205-8e2d45192abe"
      },
      "source": [
        "import torch\n",
        "import torch.nn as nn\n",
        "import torch.nn.functional as F\n",
        "\n",
        "class Net(nn.Module):\n",
        "  def __init__(self):\n",
        "    super(Net,self).__init__()\n",
        "\n",
        "    #FIrst Linear Layer with 74074 nodes, mid layer with\n",
        "    self.fc1 = nn.Linear(74074,10)\n",
        "\n",
        "    self.fc2 = nn.Linear(10,1)\n",
        "    self.sig = nn.Sigmoid()\n",
        "\n",
        "  def forward(self,x):\n",
        "    x = self.fc1(x)\n",
        "    x = F.relu(x)\n",
        "    x = self.fc2(x)\n",
        "    x = self.sig(x)\n",
        "    return x \n",
        "\n",
        "model = Net()\n",
        "model"
      ],
      "execution_count": 90,
      "outputs": [
        {
          "output_type": "execute_result",
          "data": {
            "text/plain": [
              "Net(\n",
              "  (fc1): Linear(in_features=74074, out_features=10, bias=True)\n",
              "  (fc2): Linear(in_features=10, out_features=1, bias=True)\n",
              "  (sig): Sigmoid()\n",
              ")"
            ]
          },
          "metadata": {
            "tags": []
          },
          "execution_count": 90
        }
      ]
    },
    {
      "cell_type": "code",
      "metadata": {
        "id": "dSHdkxsvy4Mx",
        "colab_type": "code",
        "colab": {
          "base_uri": "https://localhost:8080/",
          "height": 34
        },
        "outputId": "73c1196c-9512-4977-ecb5-3e42cc1f09c1"
      },
      "source": [
        "tenser = update_input_layer(reviews_list[2137])\n",
        "tenser = torch.from_numpy(tenser)\n",
        "\n",
        "\n",
        "model(tenser.float())"
      ],
      "execution_count": 91,
      "outputs": [
        {
          "output_type": "execute_result",
          "data": {
            "text/plain": [
              "tensor([[0.4832]], grad_fn=<SigmoidBackward>)"
            ]
          },
          "metadata": {
            "tags": []
          },
          "execution_count": 91
        }
      ]
    },
    {
      "cell_type": "code",
      "metadata": {
        "id": "78aozp4mya80",
        "colab_type": "code",
        "colab": {}
      },
      "source": [
        "#It's recommended that you use cross-entropy loss for classification.\n",
        "criterion = nn.CrossEntropyLoss()\n",
        "\n",
        "optimizer = torch.optim.SGD(model.parameters(), lr=0.01)"
      ],
      "execution_count": 0,
      "outputs": []
    },
    {
      "cell_type": "code",
      "metadata": {
        "id": "qSOlWuo65QqB",
        "colab_type": "code",
        "colab": {}
      },
      "source": [
        "#Algorithm to train the network\n",
        "\n",
        "n_epochs = 100\n",
        "\n",
        "model.train()\n",
        "\n",
        "for epoch in range(n_epochs):\n",
        "  "
      ],
      "execution_count": 0,
      "outputs": []
    }
  ]
}