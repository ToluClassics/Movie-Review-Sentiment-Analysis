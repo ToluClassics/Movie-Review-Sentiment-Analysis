{
  "nbformat": 4,
  "nbformat_minor": 0,
  "metadata": {
    "colab": {
      "name": "Movie Review Sentiment Analysis.ipynb",
      "provenance": [],
      "collapsed_sections": [],
      "mount_file_id": "1w6_ogL0DMlp7kgavZHWHjWS5rI0xCF3a",
      "authorship_tag": "ABX9TyMnJdpoeD5mTbnExnFPpw0B",
      "include_colab_link": true
    },
    "kernelspec": {
      "name": "python3",
      "display_name": "Python 3"
    },
    "accelerator": "GPU"
  },
  "cells": [
    {
      "cell_type": "markdown",
      "metadata": {
        "id": "view-in-github",
        "colab_type": "text"
      },
      "source": [
        "<a href=\"https://colab.research.google.com/github/ToluClassics/Movie-Review-Sentiment-Analysis/blob/master/Movie_Review_Sentiment_Analysis.ipynb\" target=\"_parent\"><img src=\"https://colab.research.google.com/assets/colab-badge.svg\" alt=\"Open In Colab\"/></a>"
      ]
    },
    {
      "cell_type": "code",
      "metadata": {
        "id": "Q9zN9j6VBhG5",
        "colab_type": "code",
        "colab": {}
      },
      "source": [
        "labels_path = '/content/drive/My Drive/Sentiment Analysis/labels.txt'\n",
        "reviews_path = '/content/drive/My Drive/Sentiment Analysis/reviews.txt'\n",
        "\n",
        "file = open(reviews_path,'r')\n",
        "reviews_list = list(map(lambda x:x[:-1],file.readlines()))\n",
        "\n",
        "file = open(labels_path,'r')\n",
        "labels_list = list(map(lambda x:x[:-1].upper(),file.readlines()))"
      ],
      "execution_count": 0,
      "outputs": []
    },
    {
      "cell_type": "code",
      "metadata": {
        "id": "XELQO6t-LZIf",
        "colab_type": "code",
        "colab": {
          "base_uri": "https://localhost:8080/",
          "height": 51
        },
        "outputId": "e99e41ad-d660-4dd2-d487-2c9165abcccd"
      },
      "source": [
        "print(\"Number of Labels: \"+str(len(labels_list)))\n",
        "\n",
        "print(\"Number of Reviews: \"+ str(len(reviews_list)))"
      ],
      "execution_count": 4,
      "outputs": [
        {
          "output_type": "stream",
          "text": [
            "Number of Labels: 25000\n",
            "Number of Reviews: 25000\n"
          ],
          "name": "stdout"
        }
      ]
    },
    {
      "cell_type": "code",
      "metadata": {
        "id": "ISdbcAHsLqWx",
        "colab_type": "code",
        "colab": {
          "base_uri": "https://localhost:8080/",
          "height": 153
        },
        "outputId": "1830fd79-40f5-43a7-ffc3-04fd554cbf8c"
      },
      "source": [
        "#We create a function that  takes in the index and outputs the  label and review\n",
        "\n",
        "def pretty_print_review_and_label(i):\n",
        "  print(labels_list[i] + '\\t:\\t' + reviews_list[i])\n",
        "\n",
        "print(\"labels.txt \\t : \\t reviews.txt\\n\")\n",
        "pretty_print_review_and_label(2137)\n",
        "pretty_print_review_and_label(12816)\n",
        "pretty_print_review_and_label(6267)\n",
        "pretty_print_review_and_label(21934)\n",
        "pretty_print_review_and_label(5297)\n",
        "pretty_print_review_and_label(4998)"
      ],
      "execution_count": 5,
      "outputs": [
        {
          "output_type": "stream",
          "text": [
            "labels.txt \t : \t reviews.txt\n",
            "\n",
            "NEGATIVE\t:\tthis movie is terrible but it has some good effects .  \n",
            "POSITIVE\t:\tadrian pasdar is excellent is this film . he makes a fascinating woman .  \n",
            "NEGATIVE\t:\tcomment this movie is impossible . is terrible  very improbable  bad interpretation e direction . not look       \n",
            "POSITIVE\t:\texcellent episode movie ala pulp fiction .  days   suicides . it doesnt get more depressing than this . movie rating     music rating       \n",
            "NEGATIVE\t:\tif you haven  t seen this  it  s terrible . it is pure trash . i saw this about   years ago  and i  m still screwed up from it .  \n",
            "POSITIVE\t:\tthis schiffer guy is a real genius  the movie is of excellent quality and both entertaining and educating .  br    br   i didn  t know what a weather girl was before i learned it here .  \n"
          ],
          "name": "stdout"
        }
      ]
    },
    {
      "cell_type": "code",
      "metadata": {
        "id": "37QHrHVUWBqb",
        "colab_type": "code",
        "colab": {}
      },
      "source": [
        "from collections import Counter\n",
        "import numpy as np"
      ],
      "execution_count": 0,
      "outputs": []
    },
    {
      "cell_type": "code",
      "metadata": {
        "id": "LiaxfnoTOtPY",
        "colab_type": "code",
        "colab": {}
      },
      "source": [
        "#Create a counter object to house all the words in the positive or negative \n",
        "\n",
        "\n",
        "positive_count = Counter()\n",
        "negative_count = Counter()\n",
        "total_count = Counter()"
      ],
      "execution_count": 0,
      "outputs": []
    },
    {
      "cell_type": "code",
      "metadata": {
        "id": "rBsfaqB8WgwD",
        "colab_type": "code",
        "colab": {}
      },
      "source": [
        "for i in range(len(reviews_list)):\n",
        "  if labels_list[i] == \"NEGATIVE\":\n",
        "    for word in str(reviews_list[i]).split(' '):\n",
        "      negative_count[word] += 1\n",
        "      total_count[word] += 1\n",
        "  else:\n",
        "      for word in str(reviews_list[i]).split(' '):\n",
        "        positive_count[word] += 1\n",
        "        total_count[word] += 1"
      ],
      "execution_count": 0,
      "outputs": []
    },
    {
      "cell_type": "code",
      "metadata": {
        "id": "eBbNHB6CXY-m",
        "colab_type": "code",
        "colab": {
          "base_uri": "https://localhost:8080/",
          "height": 187
        },
        "outputId": "835276c4-858f-47f4-cba3-531661402981"
      },
      "source": [
        "#Print out the most common words used in the positive reviews\n",
        "\n",
        "positive_count.most_common(10)"
      ],
      "execution_count": 9,
      "outputs": [
        {
          "output_type": "execute_result",
          "data": {
            "text/plain": [
              "[('', 550468),\n",
              " ('the', 173324),\n",
              " ('.', 159654),\n",
              " ('and', 89722),\n",
              " ('a', 83688),\n",
              " ('of', 76855),\n",
              " ('to', 66746),\n",
              " ('is', 57245),\n",
              " ('in', 50215),\n",
              " ('br', 49235)]"
            ]
          },
          "metadata": {
            "tags": []
          },
          "execution_count": 9
        }
      ]
    },
    {
      "cell_type": "code",
      "metadata": {
        "id": "oUbwUbQSYiW7",
        "colab_type": "code",
        "colab": {
          "base_uri": "https://localhost:8080/",
          "height": 187
        },
        "outputId": "241abc11-4b1d-428f-ddf6-dfcdb78c618a"
      },
      "source": [
        "#Print out the most common words used in the Negative reviews\n",
        "\n",
        "negative_count.most_common(10)"
      ],
      "execution_count": 10,
      "outputs": [
        {
          "output_type": "execute_result",
          "data": {
            "text/plain": [
              "[('', 561462),\n",
              " ('.', 167538),\n",
              " ('the', 163389),\n",
              " ('a', 79321),\n",
              " ('and', 74385),\n",
              " ('of', 69009),\n",
              " ('to', 68974),\n",
              " ('br', 52637),\n",
              " ('is', 50083),\n",
              " ('it', 48327)]"
            ]
          },
          "metadata": {
            "tags": []
          },
          "execution_count": 10
        }
      ]
    },
    {
      "cell_type": "code",
      "metadata": {
        "id": "AqkrOvDZZVM8",
        "colab_type": "code",
        "colab": {
          "base_uri": "https://localhost:8080/",
          "height": 54
        },
        "outputId": "ca7063cc-46f3-44c4-e413-cfcfda520b6e"
      },
      "source": [
        "'''As you can see, common words like \"the\" appear very often in both positive \n",
        "and negative reviews. Instead of finding the most common words in positive or negative \n",
        "reviews, what you really want are the words found in positive reviews more often than in negative reviews, and vice versa. To accomplish this, you'll \n",
        "need to calculate the **ratios** of word usage between positive and negative reviews.'''"
      ],
      "execution_count": 11,
      "outputs": [
        {
          "output_type": "execute_result",
          "data": {
            "text/plain": [
              "'As you can see, common words like \"the\" appear very often in both positive \\nand negative reviews. Instead of finding the most common words in positive or negative \\nreviews, what you really want are the words found in positive reviews more often than in negative reviews, and vice versa. To accomplish this, you\\'ll \\nneed to calculate the **ratios** of word usage between positive and negative reviews.'"
            ]
          },
          "metadata": {
            "tags": []
          },
          "execution_count": 11
        }
      ]
    },
    {
      "cell_type": "code",
      "metadata": {
        "id": "NXDfwqI1aXva",
        "colab_type": "code",
        "colab": {
          "base_uri": "https://localhost:8080/",
          "height": 187
        },
        "outputId": "51086896-afe7-4a5f-84d7-0a3e578c9376"
      },
      "source": [
        "#Calculate the positive negative ratios of words that exist more than 100 times in the total count\n",
        "pos_neg_ratios = Counter()\n",
        "\n",
        "for word,count in total_count.most_common():\n",
        "  if count > 100:\n",
        "    pos_neg_ratio_value = positive_count[word]/float((negative_count[word] +1))\n",
        "    pos_neg_ratios[word] = pos_neg_ratio_value\n",
        "\n",
        "pos_neg_ratios.most_common(10)"
      ],
      "execution_count": 12,
      "outputs": [
        {
          "output_type": "execute_result",
          "data": {
            "text/plain": [
              "[('edie', 109.0),\n",
              " ('paulie', 59.0),\n",
              " ('felix', 23.4),\n",
              " ('polanski', 16.833333333333332),\n",
              " ('matthau', 16.555555555555557),\n",
              " ('victoria', 14.6),\n",
              " ('mildred', 13.5),\n",
              " ('gandhi', 12.666666666666666),\n",
              " ('flawless', 11.6),\n",
              " ('superbly', 9.583333333333334)]"
            ]
          },
          "metadata": {
            "tags": []
          },
          "execution_count": 12
        }
      ]
    },
    {
      "cell_type": "code",
      "metadata": {
        "id": "JoIaBjKXdWvU",
        "colab_type": "code",
        "colab": {
          "base_uri": "https://localhost:8080/",
          "height": 68
        },
        "outputId": "7080969e-6a3b-4889-a049-36163de6214b"
      },
      "source": [
        "print(\"Pos-to-neg ratio for 'the' = {}\".format(pos_neg_ratios[\"the\"]))\n",
        "print(\"Pos-to-neg ratio for 'great' = {}\".format(pos_neg_ratios[\"great\"]))\n",
        "print(\"Pos-to-neg ratio for 'bad' = {}\".format(pos_neg_ratios[\"bad\"]))"
      ],
      "execution_count": 13,
      "outputs": [
        {
          "output_type": "stream",
          "text": [
            "Pos-to-neg ratio for 'the' = 1.0607993145235326\n",
            "Pos-to-neg ratio for 'great' = 2.4305187429004165\n",
            "Pos-to-neg ratio for 'bad' = 0.2576330721426641\n"
          ],
          "name": "stdout"
        }
      ]
    },
    {
      "cell_type": "markdown",
      "metadata": {
        "id": "hZsBPfaAgHYL",
        "colab_type": "text"
      },
      "source": [
        "Looking closely at the values you just calculated, we see the following:\n",
        "\n",
        "* Words that you would expect to see more often in positive reviews – like \"amazing\" – have a ratio greater than 1. The more skewed a word is toward postive, the farther from 1 its positive-to-negative ratio  will be.\n",
        "* Words that you would expect to see more often in negative reviews – like \"terrible\" – have positive values that are less than 1. The more skewed a word is toward negative, the closer to zero its positive-to-negative ratio will be.\n",
        "* Neutral words, which don't really convey any sentiment because you would expect to see them in all sorts of reviews – like \"the\" – have values very close to 1. A perfectly neutral word – one that was used in exactly the same number of positive reviews as negative reviews – would be almost exactly 1. The `+1` we suggested you add to the denominator slightly biases words toward negative, but it won't matter because it will be a tiny bias and later we'll be ignoring words that are too close to neutral anyway."
      ]
    },
    {
      "cell_type": "code",
      "metadata": {
        "id": "SOFbbW4bfahO",
        "colab_type": "code",
        "colab": {}
      },
      "source": [
        "#Go through all the ratios you calculated and convert them to logarithms. (i.e. use np.log(ratio))\n",
        "\n",
        "for word,ratio in pos_neg_ratios.most_common():\n",
        "  if ratio > 1:\n",
        "    pos_neg_ratios[word] = np.log(ratio)\n",
        "  else:\n",
        "    pos_neg_ratios[word] = -np.log(1/(ratio+0.01))"
      ],
      "execution_count": 0,
      "outputs": []
    },
    {
      "cell_type": "code",
      "metadata": {
        "id": "qTerODCSh-Gt",
        "colab_type": "code",
        "colab": {
          "base_uri": "https://localhost:8080/",
          "height": 357
        },
        "outputId": "dcb04ed8-5711-4626-9814-a38746302740"
      },
      "source": [
        "#Most common positive words\n",
        "pos_neg_ratios.most_common(20)"
      ],
      "execution_count": 15,
      "outputs": [
        {
          "output_type": "execute_result",
          "data": {
            "text/plain": [
              "[('edie', 4.6913478822291435),\n",
              " ('paulie', 4.07753744390572),\n",
              " ('felix', 3.152736022363656),\n",
              " ('polanski', 2.8233610476132043),\n",
              " ('matthau', 2.80672172860924),\n",
              " ('victoria', 2.681021528714291),\n",
              " ('mildred', 2.6026896854443837),\n",
              " ('gandhi', 2.538973871058276),\n",
              " ('flawless', 2.451005098112319),\n",
              " ('superbly', 2.26002547857525),\n",
              " ('perfection', 2.159484249353372),\n",
              " ('astaire', 2.1400661634962708),\n",
              " ('captures', 2.038619547159581),\n",
              " ('voight', 2.030170492673053),\n",
              " ('wonderfully', 2.0218960560332353),\n",
              " ('powell', 1.978345424808467),\n",
              " ('brosnan', 1.9547990964725592),\n",
              " ('lily', 1.9203768470501485),\n",
              " ('bakshi', 1.9029851043382795),\n",
              " ('lincoln', 1.9014583864844796)]"
            ]
          },
          "metadata": {
            "tags": []
          },
          "execution_count": 15
        }
      ]
    },
    {
      "cell_type": "code",
      "metadata": {
        "id": "yCy5n58ii5Mx",
        "colab_type": "code",
        "colab": {
          "base_uri": "https://localhost:8080/",
          "height": 357
        },
        "outputId": "cb8630f9-1f4f-4ddc-8300-616176e7dab8"
      },
      "source": [
        "#Most common Negative words\n",
        "list(reversed(pos_neg_ratios.most_common()))[:20]"
      ],
      "execution_count": 16,
      "outputs": [
        {
          "output_type": "execute_result",
          "data": {
            "text/plain": [
              "[('boll', -4.07781526027089),\n",
              " ('uwe', -3.921875301871158),\n",
              " ('seagal', -3.320250105858192),\n",
              " ('unwatchable', -3.0269848170580955),\n",
              " ('stinker', -2.9876839403711624),\n",
              " ('mst', -2.775383321170797),\n",
              " ('incoherent', -2.7641396677532537),\n",
              " ('unfunny', -2.5545257844967644),\n",
              " ('waste', -2.4907515123361046),\n",
              " ('blah', -2.4475792789485005),\n",
              " ('horrid', -2.371577964480997),\n",
              " ('pointless', -2.345107387713634),\n",
              " ('atrocious', -2.3187369339642556),\n",
              " ('redeeming', -2.2667790015910296),\n",
              " ('prom', -2.2601040980178784),\n",
              " ('drivel', -2.247602958576693),\n",
              " ('lousy', -2.2118080125207054),\n",
              " ('worst', -2.1930856334332267),\n",
              " ('laughable', -2.172468615469592),\n",
              " ('awful', -2.1385076866397488)]"
            ]
          },
          "metadata": {
            "tags": []
          },
          "execution_count": 16
        }
      ]
    },
    {
      "cell_type": "code",
      "metadata": {
        "id": "asjML9Ushxp-",
        "colab_type": "code",
        "colab": {
          "base_uri": "https://localhost:8080/",
          "height": 68
        },
        "outputId": "34f85ab8-a47d-4ac7-e62f-7ce0e0d05c2a"
      },
      "source": [
        "print(\"Pos-to-neg ratio for 'the' = {}\".format(pos_neg_ratios[\"the\"]))\n",
        "print(\"Pos-to-neg ratio for 'great' = {}\".format(pos_neg_ratios[\"great\"]))\n",
        "print(\"Pos-to-neg ratio for 'bad' = {}\".format(pos_neg_ratios[\"bad\"]))"
      ],
      "execution_count": 17,
      "outputs": [
        {
          "output_type": "stream",
          "text": [
            "Pos-to-neg ratio for 'the' = 0.05902269426102881\n",
            "Pos-to-neg ratio for 'great' = 0.8881047090146459\n",
            "Pos-to-neg ratio for 'bad' = -1.3181383703873577\n"
          ],
          "name": "stdout"
        }
      ]
    },
    {
      "cell_type": "markdown",
      "metadata": {
        "id": "I_EDaH4ilEKC",
        "colab_type": "text"
      },
      "source": [
        "Building a **Neural Network** with 2 layers (Input Layer, Hidden Layer and Output later)"
      ]
    },
    {
      "cell_type": "code",
      "metadata": {
        "id": "IEzCd4djiLfv",
        "colab_type": "code",
        "colab": {
          "base_uri": "https://localhost:8080/",
          "height": 34
        },
        "outputId": "1f5c0bb2-f7b6-4f3e-d468-ef3eeb5583de"
      },
      "source": [
        "#Create an unordered list from all the words in the review\n",
        "\n",
        "vocabulary = set(total_count.keys())\n",
        "vocab_size = len(vocabulary)\n",
        "\n",
        "vocab_size"
      ],
      "execution_count": 18,
      "outputs": [
        {
          "output_type": "execute_result",
          "data": {
            "text/plain": [
              "74074"
            ]
          },
          "metadata": {
            "tags": []
          },
          "execution_count": 18
        }
      ]
    },
    {
      "cell_type": "code",
      "metadata": {
        "id": "5lR3VY5EmHqL",
        "colab_type": "code",
        "colab": {
          "base_uri": "https://localhost:8080/",
          "height": 34
        },
        "outputId": "6622b262-d50f-4cf6-ebc9-7535f13451a2"
      },
      "source": [
        "#Create a row array initialized to zeros and the size with the vocabulary length\n",
        "\n",
        "\n",
        "layer_0 = np.zeros((1,vocab_size))\n",
        "layer_0.shape"
      ],
      "execution_count": 60,
      "outputs": [
        {
          "output_type": "execute_result",
          "data": {
            "text/plain": [
              "(1, 74074)"
            ]
          },
          "metadata": {
            "tags": []
          },
          "execution_count": 60
        }
      ]
    },
    {
      "cell_type": "code",
      "metadata": {
        "id": "Quinp72VnWo_",
        "colab_type": "code",
        "colab": {}
      },
      "source": [
        "# Next we create a dictionary that maps the each work and its index\n",
        "word_index = {}\n",
        "\n",
        "for i,word in enumerate(vocabulary):\n",
        "   word_index[word]=i"
      ],
      "execution_count": 0,
      "outputs": []
    },
    {
      "cell_type": "code",
      "metadata": {
        "id": "Ydgaz-NAou1r",
        "colab_type": "code",
        "colab": {}
      },
      "source": [
        "#We are going to create a function to create output layer by using the count of words in each review\n",
        "\n",
        "def update_input_layer(review):\n",
        "\n",
        "  global layer_0\n",
        "  #clear the variable layer_0\n",
        "  layer_0 *= 0\n",
        "\n",
        "  for word in review.split(' '):\n",
        "    layer_0[0][word_index[word]]+=1\n",
        "  \n",
        "  return layer_0"
      ],
      "execution_count": 0,
      "outputs": []
    },
    {
      "cell_type": "code",
      "metadata": {
        "id": "QbvLhawwpEaT",
        "colab_type": "code",
        "colab": {
          "base_uri": "https://localhost:8080/",
          "height": 34
        },
        "outputId": "500ae195-0458-4443-f998-162da2e2d520"
      },
      "source": [
        "update_input_layer(reviews_list[2137])"
      ],
      "execution_count": 50,
      "outputs": [
        {
          "output_type": "execute_result",
          "data": {
            "text/plain": [
              "array([[2., 0., 0., ..., 0., 0., 0.]])"
            ]
          },
          "metadata": {
            "tags": []
          },
          "execution_count": 50
        }
      ]
    },
    {
      "cell_type": "code",
      "metadata": {
        "id": "9DUuNdv7rD0q",
        "colab_type": "code",
        "colab": {}
      },
      "source": [
        "#define a function to encode the output label\n",
        "\n",
        "def label_encoding(label):\n",
        "  \n",
        "  if label == 'POSITIVE':\n",
        "    label_encod = 1\n",
        "  else:\n",
        "    label_encod = 0\n",
        "\n",
        "  return label_encod"
      ],
      "execution_count": 0,
      "outputs": []
    },
    {
      "cell_type": "code",
      "metadata": {
        "id": "dym8LS1NtJQS",
        "colab_type": "code",
        "colab": {
          "base_uri": "https://localhost:8080/",
          "height": 34
        },
        "outputId": "3655d765-0702-41c0-b6dd-38bc0e38a70a"
      },
      "source": [
        "label_encoding(labels_list[100])"
      ],
      "execution_count": 24,
      "outputs": [
        {
          "output_type": "execute_result",
          "data": {
            "text/plain": [
              "1"
            ]
          },
          "metadata": {
            "tags": []
          },
          "execution_count": 24
        }
      ]
    },
    {
      "cell_type": "code",
      "metadata": {
        "id": "B8gxRGcctQ7X",
        "colab_type": "code",
        "colab": {}
      },
      "source": [
        "import torch\n",
        "import torch.nn as nn\n",
        "import torch.nn.functional as F\n",
        "\n",
        "class Net(nn.Module):\n",
        "  def __init__(self):\n",
        "    super(Net,self).__init__()\n",
        "\n",
        "    #FIrst Linear Layer with 74074 nodes, mid layer with\n",
        "    self.fc1 = nn.Linear(74074,10)\n",
        "    self.fc2 = nn.Linear(10,1)\n",
        "    self.sig = nn.Sigmoid()\n",
        "\n",
        "  def forward(self,x):\n",
        "    x = self.fc1(x)\n",
        "    x = self.sig(x)\n",
        "    x = self.fc2(x)\n",
        "    x = self.sig(x)\n",
        "    return x \n",
        "\n",
        "model = Net()\n",
        "model = model.cuda()"
      ],
      "execution_count": 0,
      "outputs": []
    },
    {
      "cell_type": "code",
      "metadata": {
        "id": "dSHdkxsvy4Mx",
        "colab_type": "code",
        "colab": {}
      },
      "source": [
        "tenser = update_input_layer(reviews_list[2137])\n",
        "#tenser = torch.from_numpy(tenser)\n",
        "\n",
        "\n",
        "a = model(tenser.float().cuda())"
      ],
      "execution_count": 0,
      "outputs": []
    },
    {
      "cell_type": "code",
      "metadata": {
        "id": "Urs4-9z2_XJj",
        "colab_type": "code",
        "colab": {
          "base_uri": "https://localhost:8080/",
          "height": 34
        },
        "outputId": "aab3c483-e698-474c-9c9c-fffd583f71d7"
      },
      "source": [
        "float(a)"
      ],
      "execution_count": 40,
      "outputs": [
        {
          "output_type": "execute_result",
          "data": {
            "text/plain": [
              "0.4729253053665161"
            ]
          },
          "metadata": {
            "tags": []
          },
          "execution_count": 40
        }
      ]
    },
    {
      "cell_type": "code",
      "metadata": {
        "id": "78aozp4mya80",
        "colab_type": "code",
        "colab": {}
      },
      "source": [
        "#It's recommended that you use cross-entropy loss for classification.\n",
        "criterion = nn.MSELoss()\n",
        "\n",
        "optimizer = torch.optim.Adam(model.parameters(), lr=0.001)"
      ],
      "execution_count": 0,
      "outputs": []
    },
    {
      "cell_type": "code",
      "metadata": {
        "id": "qSOlWuo65QqB",
        "colab_type": "code",
        "colab": {
          "base_uri": "https://localhost:8080/",
          "height": 204
        },
        "outputId": "d4f647b7-2bef-46d9-e5e6-8bbaba8aef3d"
      },
      "source": [
        "#Algorithm to train the network\n",
        "import time,sys\n",
        "n_epochs = 1\n",
        "\n",
        "model.train()\n",
        "\n",
        "assert(len(reviews_list) == len(labels_list))\n",
        "\n",
        "for epoch in range(n_epochs):\n",
        "\n",
        "  correct_so_far = 0\n",
        "  start = time.time()\n",
        "\n",
        "  for i in range(len(reviews_list)):\n",
        "    #optimizer.zero_grad()\n",
        "\n",
        "    layer_0 = np.zeros((1,vocab_size))\n",
        "\n",
        "    layer_0 = update_input_layer(reviews_list[i])\n",
        "\n",
        "    layer_0 = torch.from_numpy(layer_0)\n",
        "\n",
        "    output = model(layer_0.float().cuda())\n",
        "\n",
        "    y = label_encoding(labels_list[i])\n",
        "\n",
        "    loss = output-y\n",
        "\n",
        "    loss.backward()\n",
        "\n",
        "    optimizer.step()\n",
        "\n",
        "    if abs(loss) < 0.5:\n",
        "      correct_so_far += 1\n",
        "\n",
        "    elapsed_time = float(time.time() - start)\n",
        "    reviews_per_second = i / elapsed_time if elapsed_time > 0 else 0\n",
        "\n",
        "\n",
        "    sys.stdout.write(\"\\rProgress:\" + str(100 * i/float(len(reviews_list)))[:4] \\\n",
        "                             + \"% Speed(reviews/sec):\" + str(reviews_per_second)[0:5] \\\n",
        "                             + \" #Correct:\" + str(correct_so_far) + \" #Trained:\" + str(i+1) \\\n",
        "                             + \" Training Accuracy:\" + str(correct_so_far * 100 / float(i+1))[:4] + \"%\")\n",
        "    if(i % 2500 == 0):\n",
        "      print(\"\")"
      ],
      "execution_count": 104,
      "outputs": [
        {
          "output_type": "stream",
          "text": [
            "Progress:0.0% Speed(reviews/sec):0.0 #Correct:0 #Trained:1 Training Accuracy:0.0%\n",
            "Progress:10.0% Speed(reviews/sec):492.0 #Correct:1250 #Trained:2501 Training Accuracy:49.9%\n",
            "Progress:20.0% Speed(reviews/sec):491.8 #Correct:2500 #Trained:5001 Training Accuracy:49.9%\n",
            "Progress:30.0% Speed(reviews/sec):491.8 #Correct:3750 #Trained:7501 Training Accuracy:49.9%\n",
            "Progress:40.0% Speed(reviews/sec):491.9 #Correct:5000 #Trained:10001 Training Accuracy:49.9%\n",
            "Progress:50.0% Speed(reviews/sec):492.2 #Correct:6250 #Trained:12501 Training Accuracy:49.9%\n",
            "Progress:60.0% Speed(reviews/sec):492.2 #Correct:7500 #Trained:15001 Training Accuracy:49.9%\n",
            "Progress:70.0% Speed(reviews/sec):492.0 #Correct:8750 #Trained:17501 Training Accuracy:49.9%\n",
            "Progress:80.0% Speed(reviews/sec):491.7 #Correct:10000 #Trained:20001 Training Accuracy:49.9%\n",
            "Progress:90.0% Speed(reviews/sec):492.1 #Correct:11250 #Trained:22501 Training Accuracy:49.9%\n",
            "Progress:99.9% Speed(reviews/sec):490.2 #Correct:12500 #Trained:25000 Training Accuracy:50.0%"
          ],
          "name": "stdout"
        }
      ]
    },
    {
      "cell_type": "code",
      "metadata": {
        "id": "G2d5f5Ts-qqY",
        "colab_type": "code",
        "colab": {}
      },
      "source": [
        "import time\n",
        "import sys\n",
        "import numpy as np\n",
        "\n",
        "# Encapsulate our neural network in a class\n",
        "class SentimentNetwork:\n",
        "    def __init__(self, reviews, labels, hidden_nodes = 10, learning_rate = 0.1):\n",
        "        \"\"\"Create a SentimenNetwork with the given settings\n",
        "        Args:\n",
        "            reviews(list) - List of reviews used for training\n",
        "            labels(list) - List of POSITIVE/NEGATIVE labels associated with the given reviews\n",
        "            hidden_nodes(int) - Number of nodes to create in the hidden layer\n",
        "            learning_rate(float) - Learning rate to use while training\n",
        "        \n",
        "        \"\"\"\n",
        "        # Assign a seed to our random number generator to ensure we get\n",
        "        # reproducable results during development \n",
        "        np.random.seed(1)\n",
        "\n",
        "        # process the reviews and their associated labels so that everything\n",
        "        # is ready for training\n",
        "        self.pre_process_data(reviews, labels)\n",
        "        \n",
        "        # Build the network to have the number of hidden nodes and the learning rate that\n",
        "        # were passed into this initializer. Make the same number of input nodes as\n",
        "        # there are vocabulary words and create a single output node.\n",
        "        self.init_network(len(self.review_vocab),hidden_nodes, 1, learning_rate)\n",
        "\n",
        "    def pre_process_data(self, reviews, labels):\n",
        "        \n",
        "        review_vocab = set()\n",
        "        # populate review_vocab with all of the words in the given reviews\n",
        "        #       Remember to split reviews into individual words \n",
        "        #       using \"split(' ')\" instead of \"split()\".\n",
        "        for i in range(len(reviews)):\n",
        "            for word in reviews[i].split(' '):\n",
        "                review_vocab.add(word)\n",
        "        \n",
        "        # Convert the vocabulary set to a list so we can access words via indices\n",
        "        self.review_vocab = list(review_vocab)\n",
        "        \n",
        "        label_vocab = set()\n",
        "        # : populate label_vocab with all of the words in the given labels.\n",
        "        #       There is no need to split the labels because each one is a single word.\n",
        "        for label in labels:\n",
        "            label_vocab.add(label)\n",
        "        \n",
        "        # Convert the label vocabulary set to a list so we can access labels via indices\n",
        "        self.label_vocab = list(label_vocab)\n",
        "        \n",
        "        # Store the sizes of the review and label vocabularies.\n",
        "        self.review_vocab_size = len(self.review_vocab)\n",
        "        self.label_vocab_size = len(self.label_vocab)\n",
        "        \n",
        "        # Create a dictionary of words in the vocabulary mapped to index positions\n",
        "        self.word2index = {}\n",
        "        #  : populate self.word2index with indices for all the words in self.review_vocab\n",
        "        #       like you saw earlier in the notebook\n",
        "        for i,word in enumerate(review_vocab):\n",
        "            self.word2index[word] = i\n",
        "        \n",
        "        # Create a dictionary of labels mapped to index positions\n",
        "        self.label2index = {}\n",
        "        #  : do the same thing you did for self.word2index and self.review_vocab, \n",
        "        #       but for self.label2index and self.label_vocab instead\n",
        "        for i,label in enumerate(label_vocab):\n",
        "            self.label2index[word] = i \n",
        "        \n",
        "    def init_network(self, input_nodes, hidden_nodes, output_nodes, learning_rate):\n",
        "        # Store the number of nodes in input, hidden, and output layers.\n",
        "        self.input_nodes = input_nodes\n",
        "        self.hidden_nodes = hidden_nodes\n",
        "        self.output_nodes = output_nodes\n",
        "\n",
        "        # Store the learning rate\n",
        "        self.learning_rate = learning_rate\n",
        "\n",
        "        # Initialize weights\n",
        "        \n",
        "        #  : initialize self.weights_0_1 as a matrix of zeros. These are the weights between\n",
        "        #       the input layer and the hidden layer.\n",
        "        self.weights_0_1 = np.zeros((self.input_nodes,self.hidden_nodes))\n",
        "        \n",
        "        #  : initialize self.weights_1_2 as a matrix of random values. \n",
        "        #       These are the weights between the hidden layer and the output layer.\n",
        "        self.weights_1_2 = np.random.normal(0.0,self.output_nodes**-0.5,(self.hidden_nodes,self.output_nodes))\n",
        "        \n",
        "        #  : Create the input layer, a two-dimensional matrix with shape \n",
        "        #       1 x input_nodes, with all values initialized to zero\n",
        "        self.layer_0 = np.zeros((1,input_nodes))\n",
        "    \n",
        "        \n",
        "    def update_input_layer(self,review):\n",
        "        #  : You can copy most of the code you wrote for update_input_layer \n",
        "        #       earlier in this notebook. \n",
        "        #\n",
        "        #       However, MAKE SURE YOU CHANGE ALL VARIABLES TO REFERENCE\n",
        "        #       THE VERSIONS STORED IN THIS OBJECT, NOT THE GLOBAL OBJECTS.\n",
        "        #       For example, replace \"layer_0 *= 0\" with \"self.layer_0 *= 0\"\n",
        "        self.layer_0 *= 0\n",
        "        for word in review.split(\" \"):\n",
        "            if word in self.word2index.keys():\n",
        "                self.layer_0[0][self.word2index[word]]+=1\n",
        "                \n",
        "    def get_target_for_label(self,label):\n",
        "        #  : Copy the code you wrote for get_target_for_label \n",
        "        #       earlier in this notebook. \n",
        "        if label == 'POSITIVE':\n",
        "            label_encod = 1\n",
        "        else:\n",
        "            label_encod = 0\n",
        "    \n",
        "        return label_encod\n",
        "        \n",
        "    def sigmoid(self,x):\n",
        "        #  : Return the result of calculating the sigmoid activation function\n",
        "        #       shown in the lectures\n",
        "        return (1/(1+np.exp(-x)))\n",
        "    \n",
        "    def sigmoid_output_2_derivative(self,output):\n",
        "        #  : Return the derivative of the sigmoid activation function, \n",
        "        #       where \"output\" is the original output from the sigmoid fucntion \n",
        "        return (output*(1-output))\n",
        "\n",
        "    def train(self, training_reviews, training_labels):\n",
        "        \n",
        "        # make sure out we have a matching number of reviews and labels\n",
        "        assert(len(training_reviews) == len(training_labels))\n",
        "        \n",
        "        # Keep track of correct predictions to display accuracy during training \n",
        "        correct_so_far = 0\n",
        "        \n",
        "        # Remember when we started for printing time statistics\n",
        "        start = time.time()\n",
        "\n",
        "        # loop through all the given reviews and run a forward and backward pass,\n",
        "        # updating weights for every item\n",
        "        for i in range(len(training_reviews)):\n",
        "            \n",
        "            #  : Get the next review and its correct label\n",
        "            review = training_reviews[i]\n",
        "            label = training_labels[i]\n",
        "            #  : Implement the forward pass through the network. \n",
        "            #       That means use the given review to update the input layer, \n",
        "            #       then calculate values for the hidden layer,\n",
        "            #       and finally calculate the output layer.\n",
        "            # \n",
        "            #       Do not use an activation function for the hidden layer,\n",
        "            #       but use the sigmoid activation function for the output layer.\n",
        "            self.update_input_layer(review)\n",
        "            \n",
        "            layer_1 = np.dot(self.layer_0,self.weights_0_1)\n",
        "            \n",
        "            layer_2 = self.sigmoid(np.dot(layer_1,self.weights_1_2))\n",
        "            \n",
        "            #  : Implement the back propagation pass here. \n",
        "            #       That means calculate the error for the forward pass's prediction\n",
        "            #       and update the weights in the network according to their\n",
        "            #       contributions toward the error, as calculated via the\n",
        "            #       gradient descent and back propagation algorithms you \n",
        "            #       learned in class.\n",
        "            layer_2_error = layer_2 - self.get_target_for_label(label)\n",
        "            layer_2_delta = layer_2_error * self.sigmoid_output_2_derivative(layer_2)\n",
        "            \n",
        "            layer_1_error = layer_2_delta.dot(self.weights_1_2.T)\n",
        "            layer_1_delta = layer_1_error\n",
        "            \n",
        "            self.weights_0_1 -= self.learning_rate*self.layer_0.T.dot(layer_1_delta)\n",
        "            self.weights_1_2 -= self.learning_rate* (np.dot(layer_1.T,layer_2_delta))\n",
        "            \n",
        "            #  : Keep track of correct predictions. To determine if the prediction was\n",
        "            #       correct, check that the absolute value of the output error \n",
        "            #       is less than 0.5. If so, add one to the correct_so_far count.\n",
        "            if abs(layer_2_error) < 0.5:\n",
        "                correct_so_far += 1\n",
        "                \n",
        "            \n",
        "            # For debug purposes, print out our prediction accuracy and speed \n",
        "            # throughout the training process. \n",
        "\n",
        "            elapsed_time = float(time.time() - start)\n",
        "            reviews_per_second = i / elapsed_time if elapsed_time > 0 else 0\n",
        "            \n",
        "            sys.stdout.write(\"\\rProgress:\" + str(100 * i/float(len(training_reviews)))[:4] \\\n",
        "                             + \"% Speed(reviews/sec):\" + str(reviews_per_second)[0:5] \\\n",
        "                             + \" #Correct:\" + str(correct_so_far) + \" #Trained:\" + str(i+1) \\\n",
        "                             + \" Training Accuracy:\" + str(correct_so_far * 100 / float(i+1))[:4] + \"%\")\n",
        "            if(i % 2500 == 0):\n",
        "                print(\"\")\n",
        "    \n",
        "    def test(self, testing_reviews, testing_labels):\n",
        "        \"\"\"\n",
        "        Attempts to predict the labels for the given testing_reviews,\n",
        "        and uses the test_labels to calculate the accuracy of those predictions.\n",
        "        \"\"\"\n",
        "        \n",
        "        # keep track of how many correct predictions we make\n",
        "        correct = 0\n",
        "\n",
        "        # we'll time how many predictions per second we make\n",
        "        start = time.time()\n",
        "\n",
        "        # Loop through each of the given reviews and call run to predict\n",
        "        # its label. \n",
        "        for i in range(len(testing_reviews)):\n",
        "            pred = self.run(testing_reviews[i])\n",
        "            if(pred == testing_labels[i]):\n",
        "                correct += 1\n",
        "            \n",
        "            # For debug purposes, print out our prediction accuracy and speed \n",
        "            # throughout the prediction process. \n",
        "\n",
        "            elapsed_time = float(time.time() - start)\n",
        "            reviews_per_second = i / elapsed_time if elapsed_time > 0 else 0\n",
        "            \n",
        "            sys.stdout.write(\"\\rProgress:\" + str(100 * i/float(len(testing_reviews)))[:4] \\\n",
        "                             + \"% Speed(reviews/sec):\" + str(reviews_per_second)[0:5] \\\n",
        "                             + \" #Correct:\" + str(correct) + \" #Tested:\" + str(i+1) \\\n",
        "                             + \" Testing Accuracy:\" + str(correct * 100 / float(i+1))[:4] + \"%\")\n",
        "    \n",
        "    def run(self, review):\n",
        "        \"\"\"\n",
        "        Returns a POSITIVE or NEGATIVE prediction for the given review.\n",
        "        \"\"\"\n",
        "        #  : Run a forward pass through the network, like you did in the\n",
        "        #       \"train\" function. That means use the given review to \n",
        "        #       update the input layer, then calculate values for the hidden layer,\n",
        "        #       and finally calculate the output layer.\n",
        "        #\n",
        "        #       Note: The review passed into this function for prediction \n",
        "        #             might come from anywhere, so you should convert it \n",
        "        #             to lower case prior to using it.\n",
        "        \n",
        "        self.update_input_layer(review)\n",
        "            \n",
        "        layer_1 = np.dot(self.layer_0,self.weights_0_1)\n",
        "            \n",
        "        layer_2 = self.sigmoid(np.dot(layer_1,self.weights_1_2))\n",
        "        \n",
        "        #  : The output layer should now contain a prediction. \n",
        "        #       Return `POSITIVE` for predictions greater-than-or-equal-to `0.5`, \n",
        "        #       and `NEGATIVE` otherwise.\n",
        "        \n",
        "        if layer_2[0] >= 0.5:\n",
        "            return 'POSITIVE'\n",
        "        else:\n",
        "            return 'NEGATIVE'\n"
      ],
      "execution_count": 0,
      "outputs": []
    },
    {
      "cell_type": "code",
      "metadata": {
        "id": "wkzdWdJWNbFE",
        "colab_type": "code",
        "colab": {}
      },
      "source": [
        "mlp = SentimentNetwork(reviews_list[:-1000],labels_list[:-1000], learning_rate=0.1)"
      ],
      "execution_count": 0,
      "outputs": []
    },
    {
      "cell_type": "code",
      "metadata": {
        "id": "9AnONE3YNok6",
        "colab_type": "code",
        "colab": {
          "base_uri": "https://localhost:8080/",
          "height": 204
        },
        "outputId": "6e04a766-49ce-4376-dc67-c62c487919ea"
      },
      "source": [
        "mlp.train(reviews_list[:-1000],labels_list[:-1000])"
      ],
      "execution_count": 110,
      "outputs": [
        {
          "output_type": "stream",
          "text": [
            "Progress:0.0% Speed(reviews/sec):0.0 #Correct:0 #Trained:1 Training Accuracy:0.0%\n",
            "Progress:10.4% Speed(reviews/sec):266.8 #Correct:1250 #Trained:2501 Training Accuracy:49.9%\n",
            "Progress:20.8% Speed(reviews/sec):261.9 #Correct:2500 #Trained:5001 Training Accuracy:49.9%\n",
            "Progress:31.2% Speed(reviews/sec):261.7 #Correct:3750 #Trained:7501 Training Accuracy:49.9%\n",
            "Progress:41.6% Speed(reviews/sec):262.7 #Correct:5000 #Trained:10001 Training Accuracy:49.9%\n",
            "Progress:52.0% Speed(reviews/sec):263.1 #Correct:6250 #Trained:12501 Training Accuracy:49.9%\n",
            "Progress:62.5% Speed(reviews/sec):263.3 #Correct:7500 #Trained:15001 Training Accuracy:49.9%\n",
            "Progress:72.9% Speed(reviews/sec):263.5 #Correct:8750 #Trained:17501 Training Accuracy:49.9%\n",
            "Progress:83.3% Speed(reviews/sec):263.9 #Correct:10000 #Trained:20001 Training Accuracy:49.9%\n",
            "Progress:93.7% Speed(reviews/sec):264.1 #Correct:11250 #Trained:22501 Training Accuracy:49.9%\n",
            "Progress:99.9% Speed(reviews/sec):264.0 #Correct:11999 #Trained:24000 Training Accuracy:49.9%"
          ],
          "name": "stdout"
        }
      ]
    },
    {
      "cell_type": "code",
      "metadata": {
        "id": "jyr9cdc1N9lh",
        "colab_type": "code",
        "colab": {
          "base_uri": "https://localhost:8080/",
          "height": 204
        },
        "outputId": "2d3498c4-d49b-4dcb-8e2a-f2edc6faeb78"
      },
      "source": [
        "mlp = SentimentNetwork(reviews_list[:-1000],labels_list[:-1000], learning_rate=0.00001)\n",
        "mlp.train(reviews_list[:-1000],labels_list[:-1000])"
      ],
      "execution_count": 113,
      "outputs": [
        {
          "output_type": "stream",
          "text": [
            "Progress:0.0% Speed(reviews/sec):0.0 #Correct:0 #Trained:1 Training Accuracy:0.0%\n",
            "Progress:10.4% Speed(reviews/sec):263.8 #Correct:1379 #Trained:2501 Training Accuracy:55.1%\n",
            "Progress:20.8% Speed(reviews/sec):263.0 #Correct:2887 #Trained:5001 Training Accuracy:57.7%\n",
            "Progress:31.2% Speed(reviews/sec):264.1 #Correct:4444 #Trained:7501 Training Accuracy:59.2%\n",
            "Progress:41.6% Speed(reviews/sec):265.2 #Correct:6069 #Trained:10001 Training Accuracy:60.6%\n",
            "Progress:52.0% Speed(reviews/sec):265.6 #Correct:7743 #Trained:12501 Training Accuracy:61.9%\n",
            "Progress:62.5% Speed(reviews/sec):266.0 #Correct:9395 #Trained:15001 Training Accuracy:62.6%\n",
            "Progress:72.9% Speed(reviews/sec):266.1 #Correct:11062 #Trained:17501 Training Accuracy:63.2%\n",
            "Progress:83.3% Speed(reviews/sec):265.9 #Correct:12795 #Trained:20001 Training Accuracy:63.9%\n",
            "Progress:93.7% Speed(reviews/sec):265.7 #Correct:14552 #Trained:22501 Training Accuracy:64.6%\n",
            "Progress:99.9% Speed(reviews/sec):265.3 #Correct:15635 #Trained:24000 Training Accuracy:65.1%"
          ],
          "name": "stdout"
        }
      ]
    },
    {
      "cell_type": "code",
      "metadata": {
        "id": "ulFnANV8Ohfk",
        "colab_type": "code",
        "colab": {}
      },
      "source": [
        ""
      ],
      "execution_count": 0,
      "outputs": []
    }
  ]
}